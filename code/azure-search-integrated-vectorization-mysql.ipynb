{
 "cells": [
  {
   "attachments": {},
   "cell_type": "markdown",
   "metadata": {},
   "source": [
    "# Azure Cognitive Search Integrated Vectorization Sample\n",
    "This code demonstrates how to use Azure Cognitive Search as a Vector store by automatically chunking and generating embeddings using the Azure OpenAI Embedding skill as part of the skillset pipeline in Azure Cognitive Search. \n",
    "## Prerequisites\n",
    "To run the code, install the following packages. "
   ]
  },
  {
   "cell_type": "code",
   "execution_count": 13,
   "metadata": {},
   "outputs": [
    {
     "name": "stdout",
     "output_type": "stream",
     "text": [
      "Found existing installation: azure-search-documents 11.4.0b11\n",
      "Uninstalling azure-search-documents-11.4.0b11:\n",
      "  Successfully uninstalled azure-search-documents-11.4.0b11\n"
     ]
    }
   ],
   "source": [
    "! pip uninstall azure_search_documents --yes"
   ]
  },
  {
   "cell_type": "code",
   "execution_count": 14,
   "metadata": {},
   "outputs": [],
   "source": [
    "! pip install azure_search_documents --quiet "
   ]
  },
  {
   "cell_type": "code",
   "execution_count": 9,
   "metadata": {},
   "outputs": [
    {
     "name": "stdout",
     "output_type": "stream",
     "text": [
      "Python 3.10.9\n"
     ]
    }
   ],
   "source": [
    "! python --version"
   ]
  },
  {
   "cell_type": "code",
   "execution_count": 1,
   "metadata": {},
   "outputs": [
    {
     "name": "stdout",
     "output_type": "stream",
     "text": [
      "aiohttp==3.8.4\n",
      "aiosignal==1.3.1\n",
      "asttokens @ file:///opt/conda/conda-bld/asttokens_1646925590279/work\n",
      "async-timeout==4.0.2\n",
      "attrs==22.2.0\n",
      "azure-common==1.1.28\n",
      "azure-core==1.29.5\n",
      "azure-search-documents==11.4.0\n",
      "azure-storage-blob==12.19.0\n",
      "backcall @ file:///home/ktietz/src/ci/backcall_1611930011877/work\n",
      "certifi @ file:///C:/b/abs_85o_6fm0se/croot/certifi_1671487778835/work/certifi\n",
      "cffi==1.16.0\n",
      "charset-normalizer==3.0.1\n",
      "colorama @ file:///C:/b/abs_a9ozq0l032/croot/colorama_1672387194846/work\n",
      "comm @ file:///C:/b/abs_1419earm7u/croot/comm_1671231131638/work\n",
      "contourpy==1.0.7\n",
      "cryptography==41.0.5\n",
      "cycler==0.11.0\n",
      "debugpy @ file:///C:/ci_310/debugpy_1642079916595/work\n",
      "decorator @ file:///opt/conda/conda-bld/decorator_1643638310831/work\n",
      "docopt==0.6.2\n",
      "entrypoints @ file:///C:/ci/entrypoints_1649926676279/work\n",
      "executing @ file:///opt/conda/conda-bld/executing_1646925071911/work\n",
      "filelock==3.9.0\n",
      "fonttools==4.38.0\n",
      "frozenlist==1.3.3\n",
      "huggingface-hub==0.12.1\n",
      "idna==3.4\n",
      "ipykernel @ file:///C:/b/abs_b4f07tbsyd/croot/ipykernel_1672767104060/work\n",
      "ipython @ file:///C:/b/abs_d3h279dv3h/croot/ipython_1676582236558/work\n",
      "isodate==0.6.1\n",
      "jedi @ file:///C:/ci/jedi_1644315428305/work\n",
      "joblib==1.2.0\n",
      "jupyter_client @ file:///C:/b/abs_d8fk_kz9zk/croot/jupyter_client_1676330195659/work\n",
      "jupyter_core @ file:///C:/b/abs_bd7elvu3w2/croot/jupyter_core_1676538600510/work\n",
      "kiwisolver==1.4.4\n",
      "matplotlib==3.7.0\n",
      "matplotlib-inline @ file:///C:/ci/matplotlib-inline_1661934094726/work\n",
      "msrest==0.7.1\n",
      "multidict==6.0.4\n",
      "nest-asyncio @ file:///C:/b/abs_3a_4jsjlqu/croot/nest-asyncio_1672387322800/work\n",
      "num2words==0.5.12\n",
      "numpy==1.24.2\n",
      "oauthlib==3.2.2\n",
      "openai==0.26.5\n",
      "packaging @ file:///C:/b/abs_cfsup8ur87/croot/packaging_1671697442297/work\n",
      "pandas==1.5.3\n",
      "parso @ file:///opt/conda/conda-bld/parso_1641458642106/work\n",
      "pickleshare @ file:///tmp/build/80754af9/pickleshare_1606932040724/work\n",
      "Pillow==9.4.0\n",
      "platformdirs @ file:///C:/b/abs_73cc5cz_1u/croots/recipe/platformdirs_1662711386458/work\n",
      "plotly==5.10.0\n",
      "prompt-toolkit @ file:///C:/b/abs_6coz5_9f2s/croot/prompt-toolkit_1672387908312/work\n",
      "psutil @ file:///C:/Windows/Temp/abs_b2c2fd7f-9fd5-4756-95ea-8aed74d0039flsd9qufz/croots/recipe/psutil_1656431277748/work\n",
      "pure-eval @ file:///opt/conda/conda-bld/pure_eval_1646925070566/work\n",
      "pycparser==2.21\n",
      "Pygments @ file:///opt/conda/conda-bld/pygments_1644249106324/work\n",
      "pyparsing==3.0.9\n",
      "python-dateutil @ file:///tmp/build/80754af9/python-dateutil_1626374649649/work\n",
      "python-dotenv==1.0.0\n",
      "pytz==2022.7.1\n",
      "pywin32==305.1\n",
      "PyYAML==6.0\n",
      "pyzmq @ file:///C:/ci/pyzmq_1657616000714/work\n",
      "regex==2022.10.31\n",
      "requests==2.28.2\n",
      "requests-oauthlib==1.3.1\n",
      "scikit-learn==1.2.1\n",
      "scipy==1.10.1\n",
      "six @ file:///tmp/build/80754af9/six_1644875935023/work\n",
      "sklearn==0.0.post1\n",
      "stack-data @ file:///opt/conda/conda-bld/stack_data_1646927590127/work\n",
      "tenacity==8.2.2\n",
      "threadpoolctl==3.1.0\n",
      "tokenizers==0.13.2\n",
      "tornado @ file:///C:/ci/tornado_1662476985533/work\n",
      "tqdm==4.64.1\n",
      "traitlets @ file:///C:/b/abs_e5m_xjjl94/croot/traitlets_1671143896266/work\n",
      "transformers==4.26.1\n",
      "typing_extensions==4.8.0\n",
      "urllib3==1.26.14\n",
      "wcwidth @ file:///Users/ktietz/demo/mc3/conda-bld/wcwidth_1629357192024/work\n",
      "wincertstore==0.2\n",
      "yarl==1.8.2\n"
     ]
    }
   ],
   "source": [
    "! pip freeze"
   ]
  },
  {
   "attachments": {},
   "cell_type": "markdown",
   "metadata": {},
   "source": [
    "## Import required libraries and environment variables"
   ]
  },
  {
   "cell_type": "code",
   "execution_count": 5,
   "metadata": {},
   "outputs": [
    {
     "ename": "ImportError",
     "evalue": "cannot import name 'HnswVectorSearchAlgorithmConfiguration' from 'azure.search.documents.indexes.models' (c:\\Users\\jherna01\\miniconda3\\envs\\env-openai\\lib\\site-packages\\azure\\search\\documents\\indexes\\models\\__init__.py)",
     "output_type": "error",
     "traceback": [
      "\u001b[1;31m---------------------------------------------------------------------------\u001b[0m",
      "\u001b[1;31mImportError\u001b[0m                               Traceback (most recent call last)",
      "\u001b[1;32mf:\\TestMySQLAISearch\\MySQL-AI-Search-with-Vectors\\code\\azure-search-integrated-vectorization-mysql.ipynb Cell 7\u001b[0m line \u001b[0;36m1\n\u001b[0;32m      <a href='vscode-notebook-cell:/f%3A/TestMySQLAISearch/MySQL-AI-Search-with-Vectors/code/azure-search-integrated-vectorization-mysql.ipynb#W6sZmlsZQ%3D%3D?line=4'>5</a>\u001b[0m \u001b[39mfrom\u001b[39;00m \u001b[39mazure\u001b[39;00m\u001b[39m.\u001b[39;00m\u001b[39msearch\u001b[39;00m\u001b[39m.\u001b[39;00m\u001b[39mdocuments\u001b[39;00m\u001b[39m.\u001b[39;00m\u001b[39mmodels\u001b[39;00m \u001b[39mimport\u001b[39;00m (\n\u001b[0;32m      <a href='vscode-notebook-cell:/f%3A/TestMySQLAISearch/MySQL-AI-Search-with-Vectors/code/azure-search-integrated-vectorization-mysql.ipynb#W6sZmlsZQ%3D%3D?line=5'>6</a>\u001b[0m     QueryAnswerType,\n\u001b[0;32m      <a href='vscode-notebook-cell:/f%3A/TestMySQLAISearch/MySQL-AI-Search-with-Vectors/code/azure-search-integrated-vectorization-mysql.ipynb#W6sZmlsZQ%3D%3D?line=6'>7</a>\u001b[0m     QueryCaptionType,\n\u001b[1;32m   (...)\u001b[0m\n\u001b[0;32m     <a href='vscode-notebook-cell:/f%3A/TestMySQLAISearch/MySQL-AI-Search-with-Vectors/code/azure-search-integrated-vectorization-mysql.ipynb#W6sZmlsZQ%3D%3D?line=11'>12</a>\u001b[0m     VectorFilterMode,    \n\u001b[0;32m     <a href='vscode-notebook-cell:/f%3A/TestMySQLAISearch/MySQL-AI-Search-with-Vectors/code/azure-search-integrated-vectorization-mysql.ipynb#W6sZmlsZQ%3D%3D?line=12'>13</a>\u001b[0m )\n\u001b[0;32m     <a href='vscode-notebook-cell:/f%3A/TestMySQLAISearch/MySQL-AI-Search-with-Vectors/code/azure-search-integrated-vectorization-mysql.ipynb#W6sZmlsZQ%3D%3D?line=13'>14</a>\u001b[0m \u001b[39m#from azure.search.documents.models import (\u001b[39;00m\n\u001b[0;32m     <a href='vscode-notebook-cell:/f%3A/TestMySQLAISearch/MySQL-AI-Search-with-Vectors/code/azure-search-integrated-vectorization-mysql.ipynb#W6sZmlsZQ%3D%3D?line=14'>15</a>\u001b[0m    \u001b[39m# RawVectorQuery,\u001b[39;00m\n\u001b[0;32m     <a href='vscode-notebook-cell:/f%3A/TestMySQLAISearch/MySQL-AI-Search-with-Vectors/code/azure-search-integrated-vectorization-mysql.ipynb#W6sZmlsZQ%3D%3D?line=15'>16</a>\u001b[0m  \u001b[39m#   VectorizedQuery,\u001b[39;00m\n\u001b[0;32m     <a href='vscode-notebook-cell:/f%3A/TestMySQLAISearch/MySQL-AI-Search-with-Vectors/code/azure-search-integrated-vectorization-mysql.ipynb#W6sZmlsZQ%3D%3D?line=16'>17</a>\u001b[0m    \u001b[39m# QueryLanguage,\u001b[39;00m\n\u001b[0;32m     <a href='vscode-notebook-cell:/f%3A/TestMySQLAISearch/MySQL-AI-Search-with-Vectors/code/azure-search-integrated-vectorization-mysql.ipynb#W6sZmlsZQ%3D%3D?line=17'>18</a>\u001b[0m \u001b[39m#)\u001b[39;00m\n\u001b[1;32m---> <a href='vscode-notebook-cell:/f%3A/TestMySQLAISearch/MySQL-AI-Search-with-Vectors/code/azure-search-integrated-vectorization-mysql.ipynb#W6sZmlsZQ%3D%3D?line=18'>19</a>\u001b[0m \u001b[39mfrom\u001b[39;00m \u001b[39mazure\u001b[39;00m\u001b[39m.\u001b[39;00m\u001b[39msearch\u001b[39;00m\u001b[39m.\u001b[39;00m\u001b[39mdocuments\u001b[39;00m\u001b[39m.\u001b[39;00m\u001b[39mindexes\u001b[39;00m\u001b[39m.\u001b[39;00m\u001b[39mmodels\u001b[39;00m \u001b[39mimport\u001b[39;00m (  \n\u001b[0;32m     <a href='vscode-notebook-cell:/f%3A/TestMySQLAISearch/MySQL-AI-Search-with-Vectors/code/azure-search-integrated-vectorization-mysql.ipynb#W6sZmlsZQ%3D%3D?line=19'>20</a>\u001b[0m     \u001b[39m#AzureOpenAIEmbeddingSkill,  \u001b[39;00m\n\u001b[0;32m     <a href='vscode-notebook-cell:/f%3A/TestMySQLAISearch/MySQL-AI-Search-with-Vectors/code/azure-search-integrated-vectorization-mysql.ipynb#W6sZmlsZQ%3D%3D?line=20'>21</a>\u001b[0m     \u001b[39m#AzureOpenAIParameters,  \u001b[39;00m\n\u001b[0;32m     <a href='vscode-notebook-cell:/f%3A/TestMySQLAISearch/MySQL-AI-Search-with-Vectors/code/azure-search-integrated-vectorization-mysql.ipynb#W6sZmlsZQ%3D%3D?line=21'>22</a>\u001b[0m     \u001b[39m#AzureOpenAIVectorizer,  \u001b[39;00m\n\u001b[0;32m     <a href='vscode-notebook-cell:/f%3A/TestMySQLAISearch/MySQL-AI-Search-with-Vectors/code/azure-search-integrated-vectorization-mysql.ipynb#W6sZmlsZQ%3D%3D?line=22'>23</a>\u001b[0m     ExhaustiveKnnParameters,  \n\u001b[0;32m     <a href='vscode-notebook-cell:/f%3A/TestMySQLAISearch/MySQL-AI-Search-with-Vectors/code/azure-search-integrated-vectorization-mysql.ipynb#W6sZmlsZQ%3D%3D?line=23'>24</a>\u001b[0m     \u001b[39m#ExhaustiveKnnVectorSearchAlgorithmConfiguration,\u001b[39;00m\n\u001b[0;32m     <a href='vscode-notebook-cell:/f%3A/TestMySQLAISearch/MySQL-AI-Search-with-Vectors/code/azure-search-integrated-vectorization-mysql.ipynb#W6sZmlsZQ%3D%3D?line=24'>25</a>\u001b[0m     FieldMapping,  \n\u001b[0;32m     <a href='vscode-notebook-cell:/f%3A/TestMySQLAISearch/MySQL-AI-Search-with-Vectors/code/azure-search-integrated-vectorization-mysql.ipynb#W6sZmlsZQ%3D%3D?line=25'>26</a>\u001b[0m     HnswParameters,  \n\u001b[0;32m     <a href='vscode-notebook-cell:/f%3A/TestMySQLAISearch/MySQL-AI-Search-with-Vectors/code/azure-search-integrated-vectorization-mysql.ipynb#W6sZmlsZQ%3D%3D?line=26'>27</a>\u001b[0m     HnswVectorSearchAlgorithmConfiguration,  \n\u001b[0;32m     <a href='vscode-notebook-cell:/f%3A/TestMySQLAISearch/MySQL-AI-Search-with-Vectors/code/azure-search-integrated-vectorization-mysql.ipynb#W6sZmlsZQ%3D%3D?line=27'>28</a>\u001b[0m     \u001b[39m#IndexProjectionMode,  \u001b[39;00m\n\u001b[0;32m     <a href='vscode-notebook-cell:/f%3A/TestMySQLAISearch/MySQL-AI-Search-with-Vectors/code/azure-search-integrated-vectorization-mysql.ipynb#W6sZmlsZQ%3D%3D?line=28'>29</a>\u001b[0m     InputFieldMappingEntry,  \n\u001b[0;32m     <a href='vscode-notebook-cell:/f%3A/TestMySQLAISearch/MySQL-AI-Search-with-Vectors/code/azure-search-integrated-vectorization-mysql.ipynb#W6sZmlsZQ%3D%3D?line=29'>30</a>\u001b[0m     OutputFieldMappingEntry,  \n\u001b[0;32m     <a href='vscode-notebook-cell:/f%3A/TestMySQLAISearch/MySQL-AI-Search-with-Vectors/code/azure-search-integrated-vectorization-mysql.ipynb#W6sZmlsZQ%3D%3D?line=30'>31</a>\u001b[0m     \u001b[39m#PrioritizedFields,    \u001b[39;00m\n\u001b[0;32m     <a href='vscode-notebook-cell:/f%3A/TestMySQLAISearch/MySQL-AI-Search-with-Vectors/code/azure-search-integrated-vectorization-mysql.ipynb#W6sZmlsZQ%3D%3D?line=31'>32</a>\u001b[0m     SearchField,  \n\u001b[0;32m     <a href='vscode-notebook-cell:/f%3A/TestMySQLAISearch/MySQL-AI-Search-with-Vectors/code/azure-search-integrated-vectorization-mysql.ipynb#W6sZmlsZQ%3D%3D?line=32'>33</a>\u001b[0m     SearchFieldDataType,  \n\u001b[0;32m     <a href='vscode-notebook-cell:/f%3A/TestMySQLAISearch/MySQL-AI-Search-with-Vectors/code/azure-search-integrated-vectorization-mysql.ipynb#W6sZmlsZQ%3D%3D?line=33'>34</a>\u001b[0m     SearchIndex,  \n\u001b[0;32m     <a href='vscode-notebook-cell:/f%3A/TestMySQLAISearch/MySQL-AI-Search-with-Vectors/code/azure-search-integrated-vectorization-mysql.ipynb#W6sZmlsZQ%3D%3D?line=34'>35</a>\u001b[0m     SearchIndexer,  \n\u001b[0;32m     <a href='vscode-notebook-cell:/f%3A/TestMySQLAISearch/MySQL-AI-Search-with-Vectors/code/azure-search-integrated-vectorization-mysql.ipynb#W6sZmlsZQ%3D%3D?line=35'>36</a>\u001b[0m     SearchIndexerDataContainer,  \n\u001b[0;32m     <a href='vscode-notebook-cell:/f%3A/TestMySQLAISearch/MySQL-AI-Search-with-Vectors/code/azure-search-integrated-vectorization-mysql.ipynb#W6sZmlsZQ%3D%3D?line=36'>37</a>\u001b[0m     SearchIndexerDataSourceConnection,  \n\u001b[0;32m     <a href='vscode-notebook-cell:/f%3A/TestMySQLAISearch/MySQL-AI-Search-with-Vectors/code/azure-search-integrated-vectorization-mysql.ipynb#W6sZmlsZQ%3D%3D?line=37'>38</a>\u001b[0m     \u001b[39m#SearchIndexerIndexProjectionSelector,  \u001b[39;00m\n\u001b[0;32m     <a href='vscode-notebook-cell:/f%3A/TestMySQLAISearch/MySQL-AI-Search-with-Vectors/code/azure-search-integrated-vectorization-mysql.ipynb#W6sZmlsZQ%3D%3D?line=38'>39</a>\u001b[0m     \u001b[39m#SearchIndexerIndexProjections,  \u001b[39;00m\n\u001b[0;32m     <a href='vscode-notebook-cell:/f%3A/TestMySQLAISearch/MySQL-AI-Search-with-Vectors/code/azure-search-integrated-vectorization-mysql.ipynb#W6sZmlsZQ%3D%3D?line=39'>40</a>\u001b[0m     \u001b[39m#SearchIndexerIndexProjectionsParameters,  \u001b[39;00m\n\u001b[0;32m     <a href='vscode-notebook-cell:/f%3A/TestMySQLAISearch/MySQL-AI-Search-with-Vectors/code/azure-search-integrated-vectorization-mysql.ipynb#W6sZmlsZQ%3D%3D?line=40'>41</a>\u001b[0m     SearchIndexerSkillset,  \n\u001b[0;32m     <a href='vscode-notebook-cell:/f%3A/TestMySQLAISearch/MySQL-AI-Search-with-Vectors/code/azure-search-integrated-vectorization-mysql.ipynb#W6sZmlsZQ%3D%3D?line=41'>42</a>\u001b[0m     SemanticConfiguration,  \n\u001b[0;32m     <a href='vscode-notebook-cell:/f%3A/TestMySQLAISearch/MySQL-AI-Search-with-Vectors/code/azure-search-integrated-vectorization-mysql.ipynb#W6sZmlsZQ%3D%3D?line=42'>43</a>\u001b[0m     SemanticField,  \n\u001b[0;32m     <a href='vscode-notebook-cell:/f%3A/TestMySQLAISearch/MySQL-AI-Search-with-Vectors/code/azure-search-integrated-vectorization-mysql.ipynb#W6sZmlsZQ%3D%3D?line=43'>44</a>\u001b[0m     \u001b[39m#SemanticSettings,  \u001b[39;00m\n\u001b[0;32m     <a href='vscode-notebook-cell:/f%3A/TestMySQLAISearch/MySQL-AI-Search-with-Vectors/code/azure-search-integrated-vectorization-mysql.ipynb#W6sZmlsZQ%3D%3D?line=44'>45</a>\u001b[0m     SplitSkill,\n\u001b[0;32m     <a href='vscode-notebook-cell:/f%3A/TestMySQLAISearch/MySQL-AI-Search-with-Vectors/code/azure-search-integrated-vectorization-mysql.ipynb#W6sZmlsZQ%3D%3D?line=45'>46</a>\u001b[0m     SqlIntegratedChangeTrackingPolicy,  \n\u001b[0;32m     <a href='vscode-notebook-cell:/f%3A/TestMySQLAISearch/MySQL-AI-Search-with-Vectors/code/azure-search-integrated-vectorization-mysql.ipynb#W6sZmlsZQ%3D%3D?line=46'>47</a>\u001b[0m     VectorSearch,  \n\u001b[0;32m     <a href='vscode-notebook-cell:/f%3A/TestMySQLAISearch/MySQL-AI-Search-with-Vectors/code/azure-search-integrated-vectorization-mysql.ipynb#W6sZmlsZQ%3D%3D?line=47'>48</a>\u001b[0m     VectorSearchAlgorithmKind,  \n\u001b[0;32m     <a href='vscode-notebook-cell:/f%3A/TestMySQLAISearch/MySQL-AI-Search-with-Vectors/code/azure-search-integrated-vectorization-mysql.ipynb#W6sZmlsZQ%3D%3D?line=48'>49</a>\u001b[0m     VectorSearchAlgorithmMetric,  \n\u001b[0;32m     <a href='vscode-notebook-cell:/f%3A/TestMySQLAISearch/MySQL-AI-Search-with-Vectors/code/azure-search-integrated-vectorization-mysql.ipynb#W6sZmlsZQ%3D%3D?line=49'>50</a>\u001b[0m     VectorSearchProfile,  \n\u001b[0;32m     <a href='vscode-notebook-cell:/f%3A/TestMySQLAISearch/MySQL-AI-Search-with-Vectors/code/azure-search-integrated-vectorization-mysql.ipynb#W6sZmlsZQ%3D%3D?line=50'>51</a>\u001b[0m )  \n\u001b[0;32m     <a href='vscode-notebook-cell:/f%3A/TestMySQLAISearch/MySQL-AI-Search-with-Vectors/code/azure-search-integrated-vectorization-mysql.ipynb#W6sZmlsZQ%3D%3D?line=51'>52</a>\u001b[0m \u001b[39mfrom\u001b[39;00m \u001b[39mazure\u001b[39;00m\u001b[39m.\u001b[39;00m\u001b[39mstorage\u001b[39;00m\u001b[39m.\u001b[39;00m\u001b[39mblob\u001b[39;00m \u001b[39mimport\u001b[39;00m BlobServiceClient  \n\u001b[0;32m     <a href='vscode-notebook-cell:/f%3A/TestMySQLAISearch/MySQL-AI-Search-with-Vectors/code/azure-search-integrated-vectorization-mysql.ipynb#W6sZmlsZQ%3D%3D?line=52'>53</a>\u001b[0m \u001b[39mimport\u001b[39;00m \u001b[39mopenai\u001b[39;00m  \n",
      "\u001b[1;31mImportError\u001b[0m: cannot import name 'HnswVectorSearchAlgorithmConfiguration' from 'azure.search.documents.indexes.models' (c:\\Users\\jherna01\\miniconda3\\envs\\env-openai\\lib\\site-packages\\azure\\search\\documents\\indexes\\models\\__init__.py)"
     ]
    }
   ],
   "source": [
    "# Import required libraries  \n",
    "from azure.core.credentials import AzureKeyCredential  \n",
    "from azure.search.documents import SearchClient  \n",
    "from azure.search.documents.indexes import SearchIndexClient, SearchIndexerClient  \n",
    "from azure.search.documents.models import (\n",
    "    QueryAnswerType,\n",
    "    QueryCaptionType,\n",
    "\n",
    "    QueryType,\n",
    "    VectorizedQuery,\n",
    "    \n",
    "    VectorFilterMode,    \n",
    ")\n",
    "#from azure.search.documents.models import (\n",
    "   # RawVectorQuery,\n",
    " #   VectorizedQuery,\n",
    "   # QueryLanguage,\n",
    "#)\n",
    "from azure.search.documents.indexes.models import (  \n",
    "    #AzureOpenAIEmbeddingSkill,  \n",
    "    #AzureOpenAIParameters,  \n",
    "    #AzureOpenAIVectorizer,  \n",
    "    ExhaustiveKnnParameters,  \n",
    "    #ExhaustiveKnnVectorSearchAlgorithmConfiguration,\n",
    "    FieldMapping,  \n",
    "    HnswParameters,  \n",
    "    HnswVectorSearchAlgorithmConfiguration,  \n",
    "    #IndexProjectionMode,  \n",
    "    InputFieldMappingEntry,  \n",
    "    OutputFieldMappingEntry,  \n",
    "    #PrioritizedFields,    \n",
    "    SearchField,  \n",
    "    SearchFieldDataType,  \n",
    "    SearchIndex,  \n",
    "    SearchIndexer,  \n",
    "    SearchIndexerDataContainer,  \n",
    "    SearchIndexerDataSourceConnection,  \n",
    "    #SearchIndexerIndexProjectionSelector,  \n",
    "    #SearchIndexerIndexProjections,  \n",
    "    #SearchIndexerIndexProjectionsParameters,  \n",
    "    SearchIndexerSkillset,  \n",
    "    SemanticConfiguration,  \n",
    "    SemanticField,  \n",
    "    #SemanticSettings,  \n",
    "    SplitSkill,\n",
    "    SqlIntegratedChangeTrackingPolicy,  \n",
    "    VectorSearch,  \n",
    "    VectorSearchAlgorithmKind,  \n",
    "    VectorSearchAlgorithmMetric,  \n",
    "    VectorSearchProfile,  \n",
    ")  \n",
    "from azure.storage.blob import BlobServiceClient  \n",
    "import openai  \n",
    "from dotenv import load_dotenv  \n",
    "import os  \n",
    "  \n",
    "# Configure environment variables\n",
    "load_dotenv()  \n",
    "service_endpoint = os.getenv(\"AZURE_SEARCH_SERVICE_ENDPOINT\")  \n",
    "index_name = os.getenv(\"AZURE_SEARCH_INDEX_NAME_01\")  \n",
    "key = os.getenv(\"AZURE_SEARCH_ADMIN_KEY\")  \n",
    "openai.api_type = \"azure\"  \n",
    "openai.api_key = os.getenv(\"AZURE_OPENAI_API_KEY\")  \n",
    "openai.api_base = os.getenv(\"AZURE_OPENAI_ENDPOINT\")  \n",
    "openai.api_version = os.getenv(\"AZURE_OPENAI_API_VERSION\")  \n",
    "model: str = os.getenv(\"AZURE_OPENAI_EMBEDDING_DEPLOYED_MODEL\")\n",
    "blob_connection_string = os.getenv(\"BLOB_CONNECTION_STRING\")  \n",
    "container_name = os.getenv(\"BLOB_CONTAINER_NAME\")  \n",
    "credential = AzureKeyCredential(key)  \n",
    "EMBEDDING_LENGTH = 1536     # 768 for GPT-2, 1024 for GPT-3\n",
    "server = os.getenv(\"MYSQL_SERVER\")\n",
    "database = os.getenv(\"MYSQL_DATABASE\")\n",
    "username = os.getenv(\"MYSQL_USERNAME\")\n",
    "password = os.getenv(\"MYSQL_PASSWORD\")\n",
    "table_name = os.getenv(\"MYSQL_TABLE_NAME\")"
   ]
  },
  {
   "cell_type": "markdown",
   "metadata": {},
   "source": [
    "## Connect to MySQL to a data source in Cognitive Search"
   ]
  },
  {
   "cell_type": "code",
   "execution_count": 9,
   "metadata": {},
   "outputs": [
    {
     "ename": "HttpResponseError",
     "evalue": "() Data source type 'mysql' is not supported for this API version\nCode: \nMessage: Data source type 'mysql' is not supported for this API version",
     "output_type": "error",
     "traceback": [
      "\u001b[1;31m---------------------------------------------------------------------------\u001b[0m",
      "\u001b[1;31mHttpResponseError\u001b[0m                         Traceback (most recent call last)",
      "\u001b[1;32mf:\\TestMySQLAISearch\\MySQL-AI-Search-with-Vectors\\code\\azure-search-integrated-vectorization-mysql.ipynb Cell 9\u001b[0m line \u001b[0;36m1\n\u001b[0;32m      <a href='vscode-notebook-cell:/f%3A/TestMySQLAISearch/MySQL-AI-Search-with-Vectors/code/azure-search-integrated-vectorization-mysql.ipynb#W5sZmlsZQ%3D%3D?line=6'>7</a>\u001b[0m \u001b[39m#change_detection_policy = SqlIntegratedChangeTrackingPolicy()\u001b[39;00m\n\u001b[0;32m      <a href='vscode-notebook-cell:/f%3A/TestMySQLAISearch/MySQL-AI-Search-with-Vectors/code/azure-search-integrated-vectorization-mysql.ipynb#W5sZmlsZQ%3D%3D?line=8'>9</a>\u001b[0m data_source_connection \u001b[39m=\u001b[39m SearchIndexerDataSourceConnection(\n\u001b[0;32m     <a href='vscode-notebook-cell:/f%3A/TestMySQLAISearch/MySQL-AI-Search-with-Vectors/code/azure-search-integrated-vectorization-mysql.ipynb#W5sZmlsZQ%3D%3D?line=9'>10</a>\u001b[0m     name\u001b[39m=\u001b[39m\u001b[39mf\u001b[39m\u001b[39m\"\u001b[39m\u001b[39m{\u001b[39;00mindex_name\u001b[39m}\u001b[39;00m\u001b[39m-ds\u001b[39m\u001b[39m\"\u001b[39m,\n\u001b[0;32m     <a href='vscode-notebook-cell:/f%3A/TestMySQLAISearch/MySQL-AI-Search-with-Vectors/code/azure-search-integrated-vectorization-mysql.ipynb#W5sZmlsZQ%3D%3D?line=10'>11</a>\u001b[0m     \u001b[39mtype\u001b[39m\u001b[39m=\u001b[39m\u001b[39m\"\u001b[39m\u001b[39mmysql\u001b[39m\u001b[39m\"\u001b[39m,\n\u001b[1;32m   (...)\u001b[0m\n\u001b[0;32m     <a href='vscode-notebook-cell:/f%3A/TestMySQLAISearch/MySQL-AI-Search-with-Vectors/code/azure-search-integrated-vectorization-mysql.ipynb#W5sZmlsZQ%3D%3D?line=13'>14</a>\u001b[0m     \u001b[39m#,data_change_detection_policy=change_detection_policy\u001b[39;00m\n\u001b[0;32m     <a href='vscode-notebook-cell:/f%3A/TestMySQLAISearch/MySQL-AI-Search-with-Vectors/code/azure-search-integrated-vectorization-mysql.ipynb#W5sZmlsZQ%3D%3D?line=14'>15</a>\u001b[0m )\n\u001b[1;32m---> <a href='vscode-notebook-cell:/f%3A/TestMySQLAISearch/MySQL-AI-Search-with-Vectors/code/azure-search-integrated-vectorization-mysql.ipynb#W5sZmlsZQ%3D%3D?line=15'>16</a>\u001b[0m data_source \u001b[39m=\u001b[39m ds_client\u001b[39m.\u001b[39;49mcreate_or_update_data_source_connection(data_source_connection)\n\u001b[0;32m     <a href='vscode-notebook-cell:/f%3A/TestMySQLAISearch/MySQL-AI-Search-with-Vectors/code/azure-search-integrated-vectorization-mysql.ipynb#W5sZmlsZQ%3D%3D?line=17'>18</a>\u001b[0m \u001b[39mprint\u001b[39m(\u001b[39mf\u001b[39m\u001b[39m\"\u001b[39m\u001b[39mData source \u001b[39m\u001b[39m'\u001b[39m\u001b[39m{\u001b[39;00mdata_source\u001b[39m.\u001b[39mname\u001b[39m}\u001b[39;00m\u001b[39m'\u001b[39m\u001b[39m created or updated\u001b[39m\u001b[39m\"\u001b[39m)\n",
      "File \u001b[1;32mc:\\Users\\jherna01\\miniconda3\\envs\\env-openai\\lib\\site-packages\\azure\\core\\tracing\\decorator.py:78\u001b[0m, in \u001b[0;36mdistributed_trace.<locals>.decorator.<locals>.wrapper_use_tracer\u001b[1;34m(*args, **kwargs)\u001b[0m\n\u001b[0;32m     76\u001b[0m span_impl_type \u001b[39m=\u001b[39m settings\u001b[39m.\u001b[39mtracing_implementation()\n\u001b[0;32m     77\u001b[0m \u001b[39mif\u001b[39;00m span_impl_type \u001b[39mis\u001b[39;00m \u001b[39mNone\u001b[39;00m:\n\u001b[1;32m---> 78\u001b[0m     \u001b[39mreturn\u001b[39;00m func(\u001b[39m*\u001b[39margs, \u001b[39m*\u001b[39m\u001b[39m*\u001b[39mkwargs)\n\u001b[0;32m     80\u001b[0m \u001b[39m# Merge span is parameter is set, but only if no explicit parent are passed\u001b[39;00m\n\u001b[0;32m     81\u001b[0m \u001b[39mif\u001b[39;00m merge_span \u001b[39mand\u001b[39;00m \u001b[39mnot\u001b[39;00m passed_in_parent:\n",
      "File \u001b[1;32mc:\\Users\\jherna01\\miniconda3\\envs\\env-openai\\lib\\site-packages\\azure\\search\\documents\\indexes\\_search_indexer_client.py:351\u001b[0m, in \u001b[0;36mSearchIndexerClient.create_or_update_data_source_connection\u001b[1;34m(self, data_source_connection, match_condition, **kwargs)\u001b[0m\n\u001b[0;32m    349\u001b[0m name \u001b[39m=\u001b[39m data_source_connection\u001b[39m.\u001b[39mname\n\u001b[0;32m    350\u001b[0m packed_data_source \u001b[39m=\u001b[39m data_source_connection\u001b[39m.\u001b[39m_to_generated()  \u001b[39m# pylint:disable=protected-access\u001b[39;00m\n\u001b[1;32m--> 351\u001b[0m result \u001b[39m=\u001b[39m \u001b[39mself\u001b[39m\u001b[39m.\u001b[39m_client\u001b[39m.\u001b[39mdata_sources\u001b[39m.\u001b[39mcreate_or_update(\n\u001b[0;32m    352\u001b[0m     data_source_name\u001b[39m=\u001b[39mname,\n\u001b[0;32m    353\u001b[0m     data_source\u001b[39m=\u001b[39mpacked_data_source,\n\u001b[0;32m    354\u001b[0m     prefer\u001b[39m=\u001b[39m\u001b[39m\"\u001b[39m\u001b[39mreturn=representation\u001b[39m\u001b[39m\"\u001b[39m,\n\u001b[0;32m    355\u001b[0m     error_map\u001b[39m=\u001b[39merror_map,\n\u001b[0;32m    356\u001b[0m     \u001b[39m*\u001b[39m\u001b[39m*\u001b[39mkwargs\n\u001b[0;32m    357\u001b[0m )\n\u001b[0;32m    358\u001b[0m \u001b[39m# pylint:disable=protected-access\u001b[39;00m\n\u001b[0;32m    359\u001b[0m \u001b[39mreturn\u001b[39;00m SearchIndexerDataSourceConnection\u001b[39m.\u001b[39m_from_generated(result)\n",
      "File \u001b[1;32mc:\\Users\\jherna01\\miniconda3\\envs\\env-openai\\lib\\site-packages\\azure\\core\\tracing\\decorator.py:78\u001b[0m, in \u001b[0;36mdistributed_trace.<locals>.decorator.<locals>.wrapper_use_tracer\u001b[1;34m(*args, **kwargs)\u001b[0m\n\u001b[0;32m     76\u001b[0m span_impl_type \u001b[39m=\u001b[39m settings\u001b[39m.\u001b[39mtracing_implementation()\n\u001b[0;32m     77\u001b[0m \u001b[39mif\u001b[39;00m span_impl_type \u001b[39mis\u001b[39;00m \u001b[39mNone\u001b[39;00m:\n\u001b[1;32m---> 78\u001b[0m     \u001b[39mreturn\u001b[39;00m func(\u001b[39m*\u001b[39margs, \u001b[39m*\u001b[39m\u001b[39m*\u001b[39mkwargs)\n\u001b[0;32m     80\u001b[0m \u001b[39m# Merge span is parameter is set, but only if no explicit parent are passed\u001b[39;00m\n\u001b[0;32m     81\u001b[0m \u001b[39mif\u001b[39;00m merge_span \u001b[39mand\u001b[39;00m \u001b[39mnot\u001b[39;00m passed_in_parent:\n",
      "File \u001b[1;32mc:\\Users\\jherna01\\miniconda3\\envs\\env-openai\\lib\\site-packages\\azure\\search\\documents\\indexes\\_generated\\operations\\_data_sources_operations.py:389\u001b[0m, in \u001b[0;36mDataSourcesOperations.create_or_update\u001b[1;34m(self, data_source_name, prefer, data_source, if_match, if_none_match, request_options, **kwargs)\u001b[0m\n\u001b[0;32m    387\u001b[0m     map_error(status_code\u001b[39m=\u001b[39mresponse\u001b[39m.\u001b[39mstatus_code, response\u001b[39m=\u001b[39mresponse, error_map\u001b[39m=\u001b[39merror_map)\n\u001b[0;32m    388\u001b[0m     error \u001b[39m=\u001b[39m \u001b[39mself\u001b[39m\u001b[39m.\u001b[39m_deserialize\u001b[39m.\u001b[39mfailsafe_deserialize(_models\u001b[39m.\u001b[39mSearchError, pipeline_response)\n\u001b[1;32m--> 389\u001b[0m     \u001b[39mraise\u001b[39;00m HttpResponseError(response\u001b[39m=\u001b[39mresponse, model\u001b[39m=\u001b[39merror)\n\u001b[0;32m    391\u001b[0m \u001b[39mif\u001b[39;00m response\u001b[39m.\u001b[39mstatus_code \u001b[39m==\u001b[39m \u001b[39m200\u001b[39m:\n\u001b[0;32m    392\u001b[0m     deserialized \u001b[39m=\u001b[39m \u001b[39mself\u001b[39m\u001b[39m.\u001b[39m_deserialize(\u001b[39m\"\u001b[39m\u001b[39mSearchIndexerDataSource\u001b[39m\u001b[39m\"\u001b[39m, pipeline_response)\n",
      "\u001b[1;31mHttpResponseError\u001b[0m: () Data source type 'mysql' is not supported for this API version\nCode: \nMessage: Data source type 'mysql' is not supported for this API version"
     ]
    }
   ],
   "source": [
    "ds_conn_str = f'Server={server}; Port=3306; Database={database}; Uid={username}; Pwd={password}; SslMode=Preferred;'\n",
    "\n",
    "# Create a data source\n",
    "ds_client = SearchIndexerClient(service_endpoint, AzureKeyCredential(key))\n",
    "container = SearchIndexerDataContainer(name=table_name)\n",
    "\n",
    "#change_detection_policy = SqlIntegratedChangeTrackingPolicy()\n",
    "\n",
    "data_source_connection = SearchIndexerDataSourceConnection(\n",
    "    name=f\"{index_name}-ds\",\n",
    "    type=\"mysql\",\n",
    "    connection_string=ds_conn_str,\n",
    "    container=container\n",
    "    #,data_change_detection_policy=change_detection_policy\n",
    ")\n",
    "data_source = ds_client.create_or_update_data_source_connection(data_source_connection)\n",
    "\n",
    "print(f\"Data source '{data_source.name}' created or updated\")"
   ]
  },
  {
   "cell_type": "markdown",
   "metadata": {},
   "source": [
    "## Create a search index"
   ]
  },
  {
   "cell_type": "code",
   "execution_count": 4,
   "metadata": {},
   "outputs": [
    {
     "name": "stderr",
     "output_type": "stream",
     "text": [
      "vector_search_profile is not a known attribute of class <class 'azure.search.documents.indexes.models._index.SearchField'> and will be ignored\n"
     ]
    },
    {
     "ename": "NameError",
     "evalue": "name 'HnswVectorSearchAlgorithmConfiguration' is not defined",
     "output_type": "error",
     "traceback": [
      "\u001b[1;31m---------------------------------------------------------------------------\u001b[0m",
      "\u001b[1;31mNameError\u001b[0m                                 Traceback (most recent call last)",
      "\u001b[1;32mf:\\TestMySQLAISearch\\MySQL-AI-Search-with-Vectors\\code\\azure-search-integrated-vectorization-mysql.ipynb Cell 11\u001b[0m line \u001b[0;36m2\n\u001b[0;32m      <a href='vscode-notebook-cell:/f%3A/TestMySQLAISearch/MySQL-AI-Search-with-Vectors/code/azure-search-integrated-vectorization-mysql.ipynb#X13sZmlsZQ%3D%3D?line=2'>3</a>\u001b[0m fields \u001b[39m=\u001b[39m [  \n\u001b[0;32m      <a href='vscode-notebook-cell:/f%3A/TestMySQLAISearch/MySQL-AI-Search-with-Vectors/code/azure-search-integrated-vectorization-mysql.ipynb#X13sZmlsZQ%3D%3D?line=3'>4</a>\u001b[0m   \u001b[39m# Properties of individual chunk\u001b[39;00m\n\u001b[0;32m      <a href='vscode-notebook-cell:/f%3A/TestMySQLAISearch/MySQL-AI-Search-with-Vectors/code/azure-search-integrated-vectorization-mysql.ipynb#X13sZmlsZQ%3D%3D?line=4'>5</a>\u001b[0m     SearchField(name\u001b[39m=\u001b[39m\u001b[39m\"\u001b[39m\u001b[39mId\u001b[39m\u001b[39m\"\u001b[39m, \u001b[39mtype\u001b[39m\u001b[39m=\u001b[39mSearchFieldDataType\u001b[39m.\u001b[39mString, key\u001b[39m=\u001b[39m\u001b[39mTrue\u001b[39;00m,\n\u001b[1;32m   (...)\u001b[0m\n\u001b[0;32m     <a href='vscode-notebook-cell:/f%3A/TestMySQLAISearch/MySQL-AI-Search-with-Vectors/code/azure-search-integrated-vectorization-mysql.ipynb#X13sZmlsZQ%3D%3D?line=14'>15</a>\u001b[0m \n\u001b[0;32m     <a href='vscode-notebook-cell:/f%3A/TestMySQLAISearch/MySQL-AI-Search-with-Vectors/code/azure-search-integrated-vectorization-mysql.ipynb#X13sZmlsZQ%3D%3D?line=15'>16</a>\u001b[0m ]  \n\u001b[0;32m     <a href='vscode-notebook-cell:/f%3A/TestMySQLAISearch/MySQL-AI-Search-with-Vectors/code/azure-search-integrated-vectorization-mysql.ipynb#X13sZmlsZQ%3D%3D?line=17'>18</a>\u001b[0m \u001b[39m# Configure the vector search configuration  \u001b[39;00m\n\u001b[0;32m     <a href='vscode-notebook-cell:/f%3A/TestMySQLAISearch/MySQL-AI-Search-with-Vectors/code/azure-search-integrated-vectorization-mysql.ipynb#X13sZmlsZQ%3D%3D?line=18'>19</a>\u001b[0m vector_search \u001b[39m=\u001b[39m VectorSearch(  \n\u001b[0;32m     <a href='vscode-notebook-cell:/f%3A/TestMySQLAISearch/MySQL-AI-Search-with-Vectors/code/azure-search-integrated-vectorization-mysql.ipynb#X13sZmlsZQ%3D%3D?line=19'>20</a>\u001b[0m     algorithms\u001b[39m=\u001b[39m[  \n\u001b[1;32m---> <a href='vscode-notebook-cell:/f%3A/TestMySQLAISearch/MySQL-AI-Search-with-Vectors/code/azure-search-integrated-vectorization-mysql.ipynb#X13sZmlsZQ%3D%3D?line=20'>21</a>\u001b[0m         HnswVectorSearchAlgorithmConfiguration(  \n\u001b[0;32m     <a href='vscode-notebook-cell:/f%3A/TestMySQLAISearch/MySQL-AI-Search-with-Vectors/code/azure-search-integrated-vectorization-mysql.ipynb#X13sZmlsZQ%3D%3D?line=21'>22</a>\u001b[0m             name\u001b[39m=\u001b[39m\u001b[39m\"\u001b[39m\u001b[39mmyHnsw\u001b[39m\u001b[39m\"\u001b[39m,  \n\u001b[0;32m     <a href='vscode-notebook-cell:/f%3A/TestMySQLAISearch/MySQL-AI-Search-with-Vectors/code/azure-search-integrated-vectorization-mysql.ipynb#X13sZmlsZQ%3D%3D?line=22'>23</a>\u001b[0m             kind\u001b[39m=\u001b[39mVectorSearchAlgorithmKind\u001b[39m.\u001b[39mHNSW,  \n\u001b[0;32m     <a href='vscode-notebook-cell:/f%3A/TestMySQLAISearch/MySQL-AI-Search-with-Vectors/code/azure-search-integrated-vectorization-mysql.ipynb#X13sZmlsZQ%3D%3D?line=23'>24</a>\u001b[0m             parameters\u001b[39m=\u001b[39mHnswParameters(  \n\u001b[0;32m     <a href='vscode-notebook-cell:/f%3A/TestMySQLAISearch/MySQL-AI-Search-with-Vectors/code/azure-search-integrated-vectorization-mysql.ipynb#X13sZmlsZQ%3D%3D?line=24'>25</a>\u001b[0m                 m\u001b[39m=\u001b[39m\u001b[39m4\u001b[39m,  \n\u001b[0;32m     <a href='vscode-notebook-cell:/f%3A/TestMySQLAISearch/MySQL-AI-Search-with-Vectors/code/azure-search-integrated-vectorization-mysql.ipynb#X13sZmlsZQ%3D%3D?line=25'>26</a>\u001b[0m                 ef_construction\u001b[39m=\u001b[39m\u001b[39m400\u001b[39m,  \n\u001b[0;32m     <a href='vscode-notebook-cell:/f%3A/TestMySQLAISearch/MySQL-AI-Search-with-Vectors/code/azure-search-integrated-vectorization-mysql.ipynb#X13sZmlsZQ%3D%3D?line=26'>27</a>\u001b[0m                 ef_search\u001b[39m=\u001b[39m\u001b[39m500\u001b[39m,  \n\u001b[0;32m     <a href='vscode-notebook-cell:/f%3A/TestMySQLAISearch/MySQL-AI-Search-with-Vectors/code/azure-search-integrated-vectorization-mysql.ipynb#X13sZmlsZQ%3D%3D?line=27'>28</a>\u001b[0m                 metric\u001b[39m=\u001b[39mVectorSearchAlgorithmMetric\u001b[39m.\u001b[39mCOSINE,  \n\u001b[0;32m     <a href='vscode-notebook-cell:/f%3A/TestMySQLAISearch/MySQL-AI-Search-with-Vectors/code/azure-search-integrated-vectorization-mysql.ipynb#X13sZmlsZQ%3D%3D?line=28'>29</a>\u001b[0m             ),  \n\u001b[0;32m     <a href='vscode-notebook-cell:/f%3A/TestMySQLAISearch/MySQL-AI-Search-with-Vectors/code/azure-search-integrated-vectorization-mysql.ipynb#X13sZmlsZQ%3D%3D?line=29'>30</a>\u001b[0m         ),  \n\u001b[0;32m     <a href='vscode-notebook-cell:/f%3A/TestMySQLAISearch/MySQL-AI-Search-with-Vectors/code/azure-search-integrated-vectorization-mysql.ipynb#X13sZmlsZQ%3D%3D?line=30'>31</a>\u001b[0m         ExhaustiveKnnVectorSearchAlgorithmConfiguration(  \n\u001b[0;32m     <a href='vscode-notebook-cell:/f%3A/TestMySQLAISearch/MySQL-AI-Search-with-Vectors/code/azure-search-integrated-vectorization-mysql.ipynb#X13sZmlsZQ%3D%3D?line=31'>32</a>\u001b[0m             name\u001b[39m=\u001b[39m\u001b[39m\"\u001b[39m\u001b[39mmyExhaustiveKnn\u001b[39m\u001b[39m\"\u001b[39m,  \n\u001b[0;32m     <a href='vscode-notebook-cell:/f%3A/TestMySQLAISearch/MySQL-AI-Search-with-Vectors/code/azure-search-integrated-vectorization-mysql.ipynb#X13sZmlsZQ%3D%3D?line=32'>33</a>\u001b[0m             kind\u001b[39m=\u001b[39mVectorSearchAlgorithmKind\u001b[39m.\u001b[39mEXHAUSTIVE_KNN,  \n\u001b[0;32m     <a href='vscode-notebook-cell:/f%3A/TestMySQLAISearch/MySQL-AI-Search-with-Vectors/code/azure-search-integrated-vectorization-mysql.ipynb#X13sZmlsZQ%3D%3D?line=33'>34</a>\u001b[0m             parameters\u001b[39m=\u001b[39mExhaustiveKnnParameters(  \n\u001b[0;32m     <a href='vscode-notebook-cell:/f%3A/TestMySQLAISearch/MySQL-AI-Search-with-Vectors/code/azure-search-integrated-vectorization-mysql.ipynb#X13sZmlsZQ%3D%3D?line=34'>35</a>\u001b[0m                 metric\u001b[39m=\u001b[39mVectorSearchAlgorithmMetric\u001b[39m.\u001b[39mCOSINE,  \n\u001b[0;32m     <a href='vscode-notebook-cell:/f%3A/TestMySQLAISearch/MySQL-AI-Search-with-Vectors/code/azure-search-integrated-vectorization-mysql.ipynb#X13sZmlsZQ%3D%3D?line=35'>36</a>\u001b[0m             ),  \n\u001b[0;32m     <a href='vscode-notebook-cell:/f%3A/TestMySQLAISearch/MySQL-AI-Search-with-Vectors/code/azure-search-integrated-vectorization-mysql.ipynb#X13sZmlsZQ%3D%3D?line=36'>37</a>\u001b[0m         ),  \n\u001b[0;32m     <a href='vscode-notebook-cell:/f%3A/TestMySQLAISearch/MySQL-AI-Search-with-Vectors/code/azure-search-integrated-vectorization-mysql.ipynb#X13sZmlsZQ%3D%3D?line=37'>38</a>\u001b[0m     ],  \n\u001b[0;32m     <a href='vscode-notebook-cell:/f%3A/TestMySQLAISearch/MySQL-AI-Search-with-Vectors/code/azure-search-integrated-vectorization-mysql.ipynb#X13sZmlsZQ%3D%3D?line=38'>39</a>\u001b[0m     profiles\u001b[39m=\u001b[39m[  \n\u001b[0;32m     <a href='vscode-notebook-cell:/f%3A/TestMySQLAISearch/MySQL-AI-Search-with-Vectors/code/azure-search-integrated-vectorization-mysql.ipynb#X13sZmlsZQ%3D%3D?line=39'>40</a>\u001b[0m         VectorSearchProfile(  \n\u001b[0;32m     <a href='vscode-notebook-cell:/f%3A/TestMySQLAISearch/MySQL-AI-Search-with-Vectors/code/azure-search-integrated-vectorization-mysql.ipynb#X13sZmlsZQ%3D%3D?line=40'>41</a>\u001b[0m             name\u001b[39m=\u001b[39m\u001b[39m\"\u001b[39m\u001b[39mmyHnswProfile\u001b[39m\u001b[39m\"\u001b[39m,  \n\u001b[0;32m     <a href='vscode-notebook-cell:/f%3A/TestMySQLAISearch/MySQL-AI-Search-with-Vectors/code/azure-search-integrated-vectorization-mysql.ipynb#X13sZmlsZQ%3D%3D?line=41'>42</a>\u001b[0m             algorithm\u001b[39m=\u001b[39m\u001b[39m\"\u001b[39m\u001b[39mmyHnsw\u001b[39m\u001b[39m\"\u001b[39m,  \n\u001b[0;32m     <a href='vscode-notebook-cell:/f%3A/TestMySQLAISearch/MySQL-AI-Search-with-Vectors/code/azure-search-integrated-vectorization-mysql.ipynb#X13sZmlsZQ%3D%3D?line=42'>43</a>\u001b[0m             vectorizer\u001b[39m=\u001b[39m\u001b[39m\"\u001b[39m\u001b[39mmyOpenAI\u001b[39m\u001b[39m\"\u001b[39m,  \n\u001b[0;32m     <a href='vscode-notebook-cell:/f%3A/TestMySQLAISearch/MySQL-AI-Search-with-Vectors/code/azure-search-integrated-vectorization-mysql.ipynb#X13sZmlsZQ%3D%3D?line=43'>44</a>\u001b[0m         ),  \n\u001b[0;32m     <a href='vscode-notebook-cell:/f%3A/TestMySQLAISearch/MySQL-AI-Search-with-Vectors/code/azure-search-integrated-vectorization-mysql.ipynb#X13sZmlsZQ%3D%3D?line=44'>45</a>\u001b[0m         VectorSearchProfile(  \n\u001b[0;32m     <a href='vscode-notebook-cell:/f%3A/TestMySQLAISearch/MySQL-AI-Search-with-Vectors/code/azure-search-integrated-vectorization-mysql.ipynb#X13sZmlsZQ%3D%3D?line=45'>46</a>\u001b[0m             name\u001b[39m=\u001b[39m\u001b[39m\"\u001b[39m\u001b[39mmyExhaustiveKnnProfile\u001b[39m\u001b[39m\"\u001b[39m,  \n\u001b[0;32m     <a href='vscode-notebook-cell:/f%3A/TestMySQLAISearch/MySQL-AI-Search-with-Vectors/code/azure-search-integrated-vectorization-mysql.ipynb#X13sZmlsZQ%3D%3D?line=46'>47</a>\u001b[0m             algorithm\u001b[39m=\u001b[39m\u001b[39m\"\u001b[39m\u001b[39mmyExhaustiveKnn\u001b[39m\u001b[39m\"\u001b[39m,  \n\u001b[0;32m     <a href='vscode-notebook-cell:/f%3A/TestMySQLAISearch/MySQL-AI-Search-with-Vectors/code/azure-search-integrated-vectorization-mysql.ipynb#X13sZmlsZQ%3D%3D?line=47'>48</a>\u001b[0m             vectorizer\u001b[39m=\u001b[39m\u001b[39m\"\u001b[39m\u001b[39mmyOpenAI\u001b[39m\u001b[39m\"\u001b[39m,  \n\u001b[0;32m     <a href='vscode-notebook-cell:/f%3A/TestMySQLAISearch/MySQL-AI-Search-with-Vectors/code/azure-search-integrated-vectorization-mysql.ipynb#X13sZmlsZQ%3D%3D?line=48'>49</a>\u001b[0m         ),  \n\u001b[0;32m     <a href='vscode-notebook-cell:/f%3A/TestMySQLAISearch/MySQL-AI-Search-with-Vectors/code/azure-search-integrated-vectorization-mysql.ipynb#X13sZmlsZQ%3D%3D?line=49'>50</a>\u001b[0m     ],  \n\u001b[0;32m     <a href='vscode-notebook-cell:/f%3A/TestMySQLAISearch/MySQL-AI-Search-with-Vectors/code/azure-search-integrated-vectorization-mysql.ipynb#X13sZmlsZQ%3D%3D?line=50'>51</a>\u001b[0m     vectorizers\u001b[39m=\u001b[39m[  \n\u001b[0;32m     <a href='vscode-notebook-cell:/f%3A/TestMySQLAISearch/MySQL-AI-Search-with-Vectors/code/azure-search-integrated-vectorization-mysql.ipynb#X13sZmlsZQ%3D%3D?line=51'>52</a>\u001b[0m         AzureOpenAIVectorizer(  \n\u001b[0;32m     <a href='vscode-notebook-cell:/f%3A/TestMySQLAISearch/MySQL-AI-Search-with-Vectors/code/azure-search-integrated-vectorization-mysql.ipynb#X13sZmlsZQ%3D%3D?line=52'>53</a>\u001b[0m             name\u001b[39m=\u001b[39m\u001b[39m\"\u001b[39m\u001b[39mmyOpenAI\u001b[39m\u001b[39m\"\u001b[39m,  \n\u001b[0;32m     <a href='vscode-notebook-cell:/f%3A/TestMySQLAISearch/MySQL-AI-Search-with-Vectors/code/azure-search-integrated-vectorization-mysql.ipynb#X13sZmlsZQ%3D%3D?line=53'>54</a>\u001b[0m             kind\u001b[39m=\u001b[39m\u001b[39m\"\u001b[39m\u001b[39mazureOpenAI\u001b[39m\u001b[39m\"\u001b[39m,  \n\u001b[0;32m     <a href='vscode-notebook-cell:/f%3A/TestMySQLAISearch/MySQL-AI-Search-with-Vectors/code/azure-search-integrated-vectorization-mysql.ipynb#X13sZmlsZQ%3D%3D?line=54'>55</a>\u001b[0m             azure_open_ai_parameters\u001b[39m=\u001b[39mAzureOpenAIParameters(  \n\u001b[0;32m     <a href='vscode-notebook-cell:/f%3A/TestMySQLAISearch/MySQL-AI-Search-with-Vectors/code/azure-search-integrated-vectorization-mysql.ipynb#X13sZmlsZQ%3D%3D?line=55'>56</a>\u001b[0m                 resource_uri\u001b[39m=\u001b[39mos\u001b[39m.\u001b[39mgetenv(\u001b[39m\"\u001b[39m\u001b[39mAZURE_OPENAI_ENDPOINT\u001b[39m\u001b[39m\"\u001b[39m),  \n\u001b[0;32m     <a href='vscode-notebook-cell:/f%3A/TestMySQLAISearch/MySQL-AI-Search-with-Vectors/code/azure-search-integrated-vectorization-mysql.ipynb#X13sZmlsZQ%3D%3D?line=56'>57</a>\u001b[0m                 deployment_id\u001b[39m=\u001b[39mmodel,  \n\u001b[0;32m     <a href='vscode-notebook-cell:/f%3A/TestMySQLAISearch/MySQL-AI-Search-with-Vectors/code/azure-search-integrated-vectorization-mysql.ipynb#X13sZmlsZQ%3D%3D?line=57'>58</a>\u001b[0m                 api_key\u001b[39m=\u001b[39mos\u001b[39m.\u001b[39mgetenv(\u001b[39m\"\u001b[39m\u001b[39mAZURE_OPENAI_API_KEY\u001b[39m\u001b[39m\"\u001b[39m),  \n\u001b[0;32m     <a href='vscode-notebook-cell:/f%3A/TestMySQLAISearch/MySQL-AI-Search-with-Vectors/code/azure-search-integrated-vectorization-mysql.ipynb#X13sZmlsZQ%3D%3D?line=58'>59</a>\u001b[0m             ),  \n\u001b[0;32m     <a href='vscode-notebook-cell:/f%3A/TestMySQLAISearch/MySQL-AI-Search-with-Vectors/code/azure-search-integrated-vectorization-mysql.ipynb#X13sZmlsZQ%3D%3D?line=59'>60</a>\u001b[0m         ),  \n\u001b[0;32m     <a href='vscode-notebook-cell:/f%3A/TestMySQLAISearch/MySQL-AI-Search-with-Vectors/code/azure-search-integrated-vectorization-mysql.ipynb#X13sZmlsZQ%3D%3D?line=60'>61</a>\u001b[0m     ],  \n\u001b[0;32m     <a href='vscode-notebook-cell:/f%3A/TestMySQLAISearch/MySQL-AI-Search-with-Vectors/code/azure-search-integrated-vectorization-mysql.ipynb#X13sZmlsZQ%3D%3D?line=61'>62</a>\u001b[0m )  \n\u001b[0;32m     <a href='vscode-notebook-cell:/f%3A/TestMySQLAISearch/MySQL-AI-Search-with-Vectors/code/azure-search-integrated-vectorization-mysql.ipynb#X13sZmlsZQ%3D%3D?line=63'>64</a>\u001b[0m semantic_config \u001b[39m=\u001b[39m SemanticConfiguration(  \n\u001b[0;32m     <a href='vscode-notebook-cell:/f%3A/TestMySQLAISearch/MySQL-AI-Search-with-Vectors/code/azure-search-integrated-vectorization-mysql.ipynb#X13sZmlsZQ%3D%3D?line=64'>65</a>\u001b[0m     name\u001b[39m=\u001b[39m\u001b[39m\"\u001b[39m\u001b[39mmy-semantic-config\u001b[39m\u001b[39m\"\u001b[39m,  \n\u001b[0;32m     <a href='vscode-notebook-cell:/f%3A/TestMySQLAISearch/MySQL-AI-Search-with-Vectors/code/azure-search-integrated-vectorization-mysql.ipynb#X13sZmlsZQ%3D%3D?line=65'>66</a>\u001b[0m     prioritized_fields\u001b[39m=\u001b[39mPrioritizedFields(  \n\u001b[0;32m     <a href='vscode-notebook-cell:/f%3A/TestMySQLAISearch/MySQL-AI-Search-with-Vectors/code/azure-search-integrated-vectorization-mysql.ipynb#X13sZmlsZQ%3D%3D?line=66'>67</a>\u001b[0m         prioritized_content_fields\u001b[39m=\u001b[39m[SemanticField(field_name\u001b[39m=\u001b[39m\u001b[39m\"\u001b[39m\u001b[39mId\u001b[39m\u001b[39m\"\u001b[39m)]  \n\u001b[0;32m     <a href='vscode-notebook-cell:/f%3A/TestMySQLAISearch/MySQL-AI-Search-with-Vectors/code/azure-search-integrated-vectorization-mysql.ipynb#X13sZmlsZQ%3D%3D?line=67'>68</a>\u001b[0m     ),  \n\u001b[0;32m     <a href='vscode-notebook-cell:/f%3A/TestMySQLAISearch/MySQL-AI-Search-with-Vectors/code/azure-search-integrated-vectorization-mysql.ipynb#X13sZmlsZQ%3D%3D?line=68'>69</a>\u001b[0m )  \n\u001b[0;32m     <a href='vscode-notebook-cell:/f%3A/TestMySQLAISearch/MySQL-AI-Search-with-Vectors/code/azure-search-integrated-vectorization-mysql.ipynb#X13sZmlsZQ%3D%3D?line=70'>71</a>\u001b[0m \u001b[39m# Create the semantic settings with the configuration  \u001b[39;00m\n",
      "\u001b[1;31mNameError\u001b[0m: name 'HnswVectorSearchAlgorithmConfiguration' is not defined"
     ]
    }
   ],
   "source": [
    "# Create a search index  \n",
    "index_client = SearchIndexClient(endpoint=service_endpoint, credential=credential)  \n",
    "fields = [  \n",
    "  # Properties of individual chunk\n",
    "    SearchField(name=\"Id\", type=SearchFieldDataType.String, key=True,\n",
    "                sortable=True, filterable=True, facetable=True, analyzer_name=\"keyword\"),\n",
    "    SearchField(name=\"chunk\", type=SearchFieldDataType.String, sortable=False, filterable=False, facetable=False),\n",
    "    SearchField(name=\"vector\", type=SearchFieldDataType.Collection(SearchFieldDataType.Single), \n",
    "                vector_search_dimensions=EMBEDDING_LENGTH, vector_search_profile=\"myHnswProfile\"),\n",
    "    # Properties of original row in DB that the chunk belonged to\n",
    "    SearchField(name=\"parent_id\", type=SearchFieldDataType.String, sortable=True, filterable=True, facetable=True),\n",
    "    SearchField(name=\"parent_numero\", type=SearchFieldDataType.String, sortable=True, filterable=True, facetable=True),\n",
    "    SearchField(name=\"parent_descripcion_breve\", type=SearchFieldDataType.String, sortable=True, filterable=True, facetable=True),\n",
    "    SearchField(name=\"parent_descripcion\", type=SearchFieldDataType.String, sortable=True, filterable=True, facetable=True)\n",
    "\n",
    "]  \n",
    "  \n",
    "# Configure the vector search configuration  \n",
    "vector_search = VectorSearch(  \n",
    "    algorithms=[  \n",
    "        HnswVectorSearchAlgorithmConfiguration(  \n",
    "            name=\"myHnsw\",  \n",
    "            kind=VectorSearchAlgorithmKind.HNSW,  \n",
    "            parameters=HnswParameters(  \n",
    "                m=4,  \n",
    "                ef_construction=400,  \n",
    "                ef_search=500,  \n",
    "                metric=VectorSearchAlgorithmMetric.COSINE,  \n",
    "            ),  \n",
    "        ),  \n",
    "        ExhaustiveKnnVectorSearchAlgorithmConfiguration(  \n",
    "            name=\"myExhaustiveKnn\",  \n",
    "            kind=VectorSearchAlgorithmKind.EXHAUSTIVE_KNN,  \n",
    "            parameters=ExhaustiveKnnParameters(  \n",
    "                metric=VectorSearchAlgorithmMetric.COSINE,  \n",
    "            ),  \n",
    "        ),  \n",
    "    ],  \n",
    "    profiles=[  \n",
    "        VectorSearchProfile(  \n",
    "            name=\"myHnswProfile\",  \n",
    "            algorithm=\"myHnsw\",  \n",
    "            vectorizer=\"myOpenAI\",  \n",
    "        ),  \n",
    "        VectorSearchProfile(  \n",
    "            name=\"myExhaustiveKnnProfile\",  \n",
    "            algorithm=\"myExhaustiveKnn\",  \n",
    "            vectorizer=\"myOpenAI\",  \n",
    "        ),  \n",
    "    ],  \n",
    "    vectorizers=[  \n",
    "        AzureOpenAIVectorizer(  \n",
    "            name=\"myOpenAI\",  \n",
    "            kind=\"azureOpenAI\",  \n",
    "            azure_open_ai_parameters=AzureOpenAIParameters(  \n",
    "                resource_uri=os.getenv(\"AZURE_OPENAI_ENDPOINT\"),  \n",
    "                deployment_id=model,  \n",
    "                api_key=os.getenv(\"AZURE_OPENAI_API_KEY\"),  \n",
    "            ),  \n",
    "        ),  \n",
    "    ],  \n",
    ")  \n",
    "  \n",
    "semantic_config = SemanticConfiguration(  \n",
    "    name=\"my-semantic-config\",  \n",
    "    prioritized_fields=PrioritizedFields(  \n",
    "        prioritized_content_fields=[SemanticField(field_name=\"Id\")]  \n",
    "    ),  \n",
    ")  \n",
    "  \n",
    "# Create the semantic settings with the configuration  \n",
    "semantic_settings = SemanticSettings(configurations=[semantic_config])  \n",
    "  \n",
    "# Create the search index with the semantic settings  \n",
    "index = SearchIndex(name=index_name, fields=fields, vector_search=vector_search, semantic_settings=semantic_settings)  \n",
    "result = index_client.create_or_update_index(index)  \n",
    "print(f\"{result.name} created\")  \n"
   ]
  },
  {
   "cell_type": "markdown",
   "metadata": {},
   "source": [
    "## Create a skillset"
   ]
  },
  {
   "cell_type": "code",
   "execution_count": 5,
   "metadata": {},
   "outputs": [
    {
     "name": "stdout",
     "output_type": "stream",
     "text": [
      "ticket-mysql-vector-02-skillset created\n"
     ]
    }
   ],
   "source": [
    "# Create a skillset  \n",
    "skillset_name = f\"{index_name}-skillset\"  \n",
    "  \n",
    "split_skill = SplitSkill(  \n",
    "    description=\"Split skill to chunk documents\",  \n",
    "    text_split_mode=\"pages\",  \n",
    "    context=\"/document\",  \n",
    "    maximum_page_length=300,  \n",
    "    page_overlap_length=20,  \n",
    "    inputs=[  \n",
    "        InputFieldMappingEntry(name=\"text\", source=\"/document/descripcion\"),  \n",
    "    ],  \n",
    "    outputs=[  \n",
    "        OutputFieldMappingEntry(name=\"textItems\", target_name=\"pages\")  \n",
    "    ],  \n",
    ")  \n",
    "  \n",
    "embedding_skill = AzureOpenAIEmbeddingSkill(  \n",
    "    description=\"Skill to generate embeddings via Azure OpenAI\",  \n",
    "    context=\"/document/pages/*\",  \n",
    "    resource_uri=os.getenv(\"AZURE_OPENAI_ENDPOINT\"),  \n",
    "    deployment_id=model,  \n",
    "    api_key=os.getenv(\"AZURE_OPENAI_API_KEY\"),  \n",
    "    inputs=[  \n",
    "        InputFieldMappingEntry(name=\"text\", source=\"/document/pages/*\"),  \n",
    "    ],  \n",
    "    outputs=[  \n",
    "        OutputFieldMappingEntry(name=\"embedding\", target_name=\"vector\")  \n",
    "    ],  \n",
    ")  \n",
    "  \n",
    "index_projections = SearchIndexerIndexProjections(  \n",
    "    selectors=[  \n",
    "        SearchIndexerIndexProjectionSelector(  \n",
    "            target_index_name=index_name,  \n",
    "            parent_key_field_name=\"parent_id\",  \n",
    "            source_context=\"/document/pages/*\",  \n",
    "            mappings=[  \n",
    "                InputFieldMappingEntry(name=\"chunk\", source=\"/document/pages/*\"),\n",
    "                InputFieldMappingEntry(name=\"vector\", source=\"/document/pages/*/vector\"),\n",
    "               # InputFieldMappingEntry(name=\"Id\", source=\"/document/numero\"),\n",
    "                InputFieldMappingEntry(name=\"parent_numero\", source=\"/document/numero\"),\n",
    "                InputFieldMappingEntry(name=\"parent_descripcion_breve\", source=\"/document/descripcion_breve\"),\n",
    "                InputFieldMappingEntry(name=\"parent_descripcion\", source=\"/document/descripcion\")\n",
    "            ],  \n",
    "        ),  \n",
    "    ],  \n",
    "    parameters=SearchIndexerIndexProjectionsParameters(  \n",
    "        projection_mode=IndexProjectionMode.SKIP_INDEXING_PARENT_DOCUMENTS  \n",
    "    ),  \n",
    ")  \n",
    "  \n",
    "skillset = SearchIndexerSkillset(  \n",
    "    name=skillset_name,  \n",
    "    description=\"Skillset to chunk documents and generating embeddings\",  \n",
    "    skills=[split_skill, embedding_skill],  \n",
    "    index_projections=index_projections,  \n",
    ")  \n",
    "  \n",
    "client = SearchIndexerClient(service_endpoint, AzureKeyCredential(key))  \n",
    "client.create_or_update_skillset(skillset)  \n",
    "print(f\"{skillset.name} created\")  \n"
   ]
  },
  {
   "cell_type": "markdown",
   "metadata": {},
   "source": [
    "## Create an indexer"
   ]
  },
  {
   "cell_type": "code",
   "execution_count": 6,
   "metadata": {},
   "outputs": [
    {
     "name": "stdout",
     "output_type": "stream",
     "text": [
      " ticket-mysql-vector-02-indexer created\n"
     ]
    }
   ],
   "source": [
    "# Create an indexer  \n",
    "indexer_name = f\"{index_name}-indexer\"  \n",
    "  \n",
    "indexer = SearchIndexer(  \n",
    "    name=indexer_name,  \n",
    "    description=\"Indexer to index documents and generate embeddings\",  \n",
    "    skillset_name=skillset_name,  \n",
    "    target_index_name=index_name,  \n",
    "    #data_source_name=data_source.name,  \n",
    "    data_source_name=\"ticket-mysql-ds\",\n",
    "    # Map the metadata_storage_name field to the title field in the index to display the PDF title in the search results  \n",
    "    field_mappings=[FieldMapping(source_field_name=\"numero\", target_field_name=\"Id\")]  \n",
    ")  \n",
    "  \n",
    "indexer_client = SearchIndexerClient(service_endpoint, AzureKeyCredential(key))  \n",
    "indexer_result = indexer_client.create_or_update_indexer(indexer)  \n",
    "  \n",
    "# Run the indexer  \n",
    "indexer_client.run_indexer(indexer_name)  \n",
    "print(f' {indexer_name} created')  \n"
   ]
  },
  {
   "attachments": {},
   "cell_type": "markdown",
   "metadata": {},
   "source": [
    "## Perform a vector similarity search"
   ]
  },
  {
   "cell_type": "markdown",
   "metadata": {},
   "source": [
    "This example shows a pure vector search using the vectorizable text query, all you need to do is pass in text and your vectorizer will handle the query vectorization."
   ]
  },
  {
   "cell_type": "code",
   "execution_count": 7,
   "metadata": {},
   "outputs": [
    {
     "name": "stdout",
     "output_type": "stream",
     "text": [
      "parent_id: CHG0032603\n",
      "chunk_id: 13a128904827_CHG0032603_pages_0\n",
      "Score: 0.8629935\n",
      "Content: SE REQUIERE LIBERAR LA APP DE MODIFICACION DE DATOS  EN ATENCION A FT RITM0123459 PARA LA CORRECCION DE LAS SIGUIENTES INCIDENCIAS.\n",
      "\n",
      "*SE ENCUENTRAN CON EL CAMPO VACÍO DE PAÍS EN LOS DATOS DE DOMICILIO PARTICULAR Y LABORAL.\n",
      "\n",
      "*TRAMITES DE APODERADO LEGAL LLEGABAN COMO BENEFICIARIO A PORTAL MIT\n"
     ]
    }
   ],
   "source": [
    "# Pure Vector Search\n",
    "query = \"que se requiere para liberar la app afore?\"  \n",
    "  \n",
    "search_client = SearchClient(service_endpoint, index_name, credential=credential)\n",
    "vector_query = VectorizedQuery(text=query, k=1, fields=\"vector\", exhaustive=True)\n",
    "# Use the below query to pass in the raw vector query instead of the query vectorization\n",
    "# vector_query = RawVectorQuery(vector=generate_embeddings(query), k=3, fields=\"vector\")\n",
    "  \n",
    "results = search_client.search(  \n",
    "    search_text=None,  \n",
    "    vector_queries= [vector_query],\n",
    "    select=[\"parent_id\", \"Id\", \"chunk\"],\n",
    "    top=1\n",
    ")  \n",
    "  \n",
    "for result in results:  \n",
    "    print(f\"parent_id: {result['parent_id']}\")  \n",
    "    print(f\"chunk_id: {result['Id']}\")  \n",
    "    print(f\"Score: {result['@search.score']}\")  \n",
    "    print(f\"Content: {result['chunk']}\")   \n"
   ]
  },
  {
   "cell_type": "markdown",
   "metadata": {},
   "source": [
    "## Perform a hybrid search"
   ]
  },
  {
   "cell_type": "code",
   "execution_count": 28,
   "metadata": {},
   "outputs": [
    {
     "name": "stdout",
     "output_type": "stream",
     "text": [
      "parent_id: CHG0032603\n",
      "chunk_id: 69685ba19050_CHG0032603_pages_0\n",
      "Score: 0.03253968432545662\n",
      "Content: SE REQUIERE LIBERAR LA APP DE MODIFICACION DE DATOS  EN ATENCION A FT RITM0123459 PARA LA CORRECCION DE LAS SIGUIENTES INCIDENCIAS.\n",
      "\n",
      "*SE ENCUENTRAN CON EL CAMPO VACÍO DE PAÍS EN LOS DATOS DE DOMICILIO PARTICULAR Y LABORAL.\n",
      "\n",
      "*TRAMITES DE APODERADO LEGAL LLEGABAN COMO BENEFICIARIO A PORTAL MIT\n"
     ]
    }
   ],
   "source": [
    "# Hybrid Search\n",
    "query = \"que se requiere para liberar la app afore?\"  \n",
    "  \n",
    "search_client = SearchClient(service_endpoint, index_name, credential=credential)\n",
    "vector_query = VectorizableTextQuery(text=query, k=1, fields=\"vector\", exhaustive=True)\n",
    "  \n",
    "results = search_client.search(  \n",
    "    search_text=query,  \n",
    "    vector_queries= [vector_query],\n",
    "    select=[\"parent_id\", \"Id\", \"chunk\"],\n",
    "    top=1\n",
    ")  \n",
    "  \n",
    "for result in results:  \n",
    "    print(f\"parent_id: {result['parent_id']}\")  \n",
    "    print(f\"chunk_id: {result['Id']}\")  \n",
    "    print(f\"Score: {result['@search.score']}\")  \n",
    "    print(f\"Content: {result['chunk']}\")  \n"
   ]
  },
  {
   "cell_type": "markdown",
   "metadata": {},
   "source": [
    "## Perform a hybrid search + semantic reranking"
   ]
  },
  {
   "cell_type": "code",
   "execution_count": 8,
   "metadata": {},
   "outputs": [
    {
     "name": "stdout",
     "output_type": "stream",
     "text": [
      "parent_id: CHG0032603\n",
      "chunk_id: 13a128904827_CHG0032603_pages_0\n",
      "Reranker Score: 1.6374846696853638\n",
      "Content: SE REQUIERE LIBERAR LA APP DE MODIFICACION DE DATOS  EN ATENCION A FT RITM0123459 PARA LA CORRECCION DE LAS SIGUIENTES INCIDENCIAS.\n",
      "\n",
      "*SE ENCUENTRAN CON EL CAMPO VACÍO DE PAÍS EN LOS DATOS DE DOMICILIO PARTICULAR Y LABORAL.\n",
      "\n",
      "*TRAMITES DE APODERADO LEGAL LLEGABAN COMO BENEFICIARIO A PORTAL MIT\n",
      "Caption: \n",
      "\n",
      "parent_id: CHG0032599\n",
      "chunk_id: 2ab08323ce1b_CHG0032599_pages_0\n",
      "Reranker Score: 1.6374846696853638\n",
      "Content: SE REQUIERE LA ACTUALIZACIÓN DE LOS COMPONENTES DE ACTIVIDAD COMERCIAL, ESTUDIO DE RETIRO PERSONALIZADO Y PROSPECTA QUE INCLUYE LAS MEJORAS DE CORRECCIÓN DE HORARIO EN LA ZONA CST Y CAMBIO DE SQL LITE A SECURE STORAGE, MODIFICACIÓN IOS MENÚ PRINCIPAL.\n",
      "Caption: \n",
      "\n"
     ]
    }
   ],
   "source": [
    "# Semantic Hybrid Search\n",
    "query = \"que se requiere para liberar la app afore?\"\n",
    "\n",
    "search_client = SearchClient(service_endpoint, index_name, AzureKeyCredential(key))\n",
    "vector_query = VectorizableTextQuery(text=query, k=2, fields=\"vector\", exhaustive=True)\n",
    "\n",
    "results = search_client.search(  \n",
    "    search_text=query,\n",
    "    vector_queries=[vector_query],\n",
    "    select=[\"parent_id\", \"Id\", \"chunk\"],\n",
    "    query_type=QueryType.SEMANTIC, query_language=QueryLanguage.EN_US, semantic_configuration_name='my-semantic-config', query_caption=QueryCaptionType.EXTRACTIVE, query_answer=QueryAnswerType.EXTRACTIVE,\n",
    "    top=2\n",
    ")\n",
    "\n",
    "semantic_answers = results.get_answers()\n",
    "for answer in semantic_answers:\n",
    "    if answer.highlights:\n",
    "        print(f\"Semantic Answer: {answer.highlights}\")\n",
    "    else:\n",
    "        print(f\"Semantic Answer: {answer.text}\")\n",
    "    print(f\"Semantic Answer Score: {answer.score}\\n\")\n",
    "\n",
    "for result in results:\n",
    "    print(f\"parent_id: {result['parent_id']}\")  \n",
    "    print(f\"chunk_id: {result['Id']}\")  \n",
    "    print(f\"Reranker Score: {result['@search.reranker_score']}\")\n",
    "    print(f\"Content: {result['chunk']}\")  \n",
    "\n",
    "    captions = result[\"@search.captions\"]\n",
    "    if captions:\n",
    "        caption = captions[0]\n",
    "        if caption.highlights:\n",
    "            print(f\"Caption: {caption.highlights}\\n\")\n",
    "        else:\n",
    "            print(f\"Caption: {caption.text}\\n\")\n"
   ]
  }
 ],
 "metadata": {
  "kernelspec": {
   "display_name": "Python 3",
   "language": "python",
   "name": "python3"
  },
  "language_info": {
   "codemirror_mode": {
    "name": "ipython",
    "version": 3
   },
   "file_extension": ".py",
   "mimetype": "text/x-python",
   "name": "python",
   "nbconvert_exporter": "python",
   "pygments_lexer": "ipython3",
   "version": "3.10.9"
  },
  "orig_nbformat": 4
 },
 "nbformat": 4,
 "nbformat_minor": 2
}
